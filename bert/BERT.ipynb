{
 "cells": [
  {
   "cell_type": "code",
   "execution_count": 3,
   "metadata": {},
   "outputs": [
    {
     "name": "stdout",
     "output_type": "stream",
     "text": [
      "Using matplotlib backend: agg\n"
     ]
    }
   ],
   "source": [
    "import pandas as pd\n",
    "import os\n",
    "from sklearn.model_selection import train_test_split\n",
    "from sklearn.metrics import accuracy_score\n",
    "from scipy.special import softmax\n",
    "from sklearn.metrics import roc_curve, auc, f1_score\n",
    "import numpy as np\n",
    "import matplotlib.pyplot as plt\n",
    "%matplotlib\n",
    "from sklearn.metrics import classification_report\n",
    "from sklearn.metrics import f1_score\n",
    "from sklearn.metrics import roc_auc_score\n",
    "from simpletransformers.classification import MultiLabelClassificationModel\n",
    "import random\n",
    "import itertools\n",
    "from ast import literal_eval\n",
    "random.seed(1)\n",
    "from IPython.core.interactiveshell import InteractiveShell\n",
    "InteractiveShell.ast_node_interactivity = \"all\""
   ]
  },
  {
   "cell_type": "markdown",
   "metadata": {},
   "source": [
    "### Data Processing\n",
    "\n",
    "- Convert __top_section__ and __CONSORT_Item__ to one hot encoding\n",
    "- Convert data into train and test such that test contains atleast single presence of all labels"
   ]
  },
  {
   "cell_type": "code",
   "execution_count": 4,
   "metadata": {},
   "outputs": [],
   "source": [
    "data_path = \"/efs/CONSORT/MLDataset/\"\n",
    "exclude_labels = [\"1a\", \"1b\", \"2a\"]\n",
    "use_top_section = False\n",
    "def explode_rows(id_, df):\n",
    "    df[id_] = df[id_].apply(literal_eval)\n",
    "    t = df[id_].apply(pd.Series).reset_index().melt(id_vars='index').dropna()[['index', 'value']].set_index('index')\n",
    "    new_df = pd.merge(t,df.loc[:, df.columns != id_], left_index=True, right_index=True).rename(columns={\"value\":id_})\n",
    "    return new_df\n",
    "    \n",
    "def preprocess_data(df, text_col=\"sentence_text\", label_col=\"CONSORT_Item\"):\n",
    "    def one_hot_encoding(df, label_col):\n",
    "        return df[label_col].str.get_dummies().add_prefix(label_col + \"_\")        \n",
    "    one_hot_df = one_hot_encoding(df, label_col)\n",
    "    num_labels = set(one_hot_df.columns.values)\n",
    "    one_hot_df[\"labels\"] = list(zip(*[one_hot_df[col] for col in one_hot_df]))\n",
    "    df = pd.concat([df[\"PMCID\"], df[\"sentence_id\"], df[\"top_section\"], df[label_col], df[text_col], one_hot_df], axis=1)\n",
    "    df = df.rename(columns={text_col:'text'})\n",
    "    df[\"text\"] = df[\"text\"].str.lower()\n",
    "    df[\"labels\"] = df[\"labels\"].apply(lambda x: list(x))\n",
    "    df = df.groupby([\"PMCID\", \"sentence_id\", \"text\", \"top_section\"]).agg(\n",
    "        {\"labels\" : lambda x: [sum(y) for y in zip(*x)],\n",
    "         label_col : lambda x: list(x)\n",
    "        }\n",
    "    ).reset_index()\n",
    "    df[\"n_labels\"] = df[\"labels\"].apply(lambda x: sum(x))\n",
    "    # For top_section\n",
    "    one_hot_df = one_hot_encoding(df, \"top_section\")\n",
    "    df[\"top_section\"] = list(zip(*[one_hot_df[col] for col in one_hot_df]))\n",
    "    df[\"top_section\"] = df[\"top_section\"].apply(lambda x: list(x))\n",
    "    return df, len(num_labels)\n",
    "\n",
    "# Use this for all labels\n",
    "# all_labels_data = pd.read_csv(os.path.join(data_path, \"all_data_manual_Sahil.csv\"), engine='python')\n",
    "# all_labels_data = explode_rows(\"CONSORT_Item\", all_labels_data)\n",
    "# if len(exclude_labels) > 0:\n",
    "#     all_labels_data = all_labels_data[~all_labels_data[\"CONSORT_Item\"].isin(exclude_labels)]\n",
    "# processed_data, n_labels = preprocess_data(all_labels_data)"
   ]
  },
  {
   "cell_type": "code",
   "execution_count": 5,
   "metadata": {},
   "outputs": [
    {
     "name": "stdout",
     "output_type": "stream",
     "text": [
      "train labels {'0', '11a', '9', '3b', '7b', '8a', '8b', '7a', '5', '3a', '4b', '4a', '12b', '10', '6a', '12a', '6b', '11b'}\n",
      "test labels {'0', '11a', '9', '3b', '7b', '8a', '8b', '7a', '5', '3a', '12b', '4b', '4a', '10', '6a', '12a', '6b', '11b'}\n",
      "Number of labels = 18\n",
      "Label to Index Dictionary {0: '0', 1: '10', 2: '11a', 3: '11b', 4: '12a', 5: '12b', 6: '3a', 7: '3b', 8: '4a', 9: '4b', 10: '5', 11: '6a', 12: '6b', 13: '7a', 14: '7b', 15: '8a', 16: '8b', 17: '9'}\n"
     ]
    }
   ],
   "source": [
    "# Use Linh's dataset\n",
    "embedding_column = \"section\"\n",
    "train_df_linh = pd.read_csv(\"/efs/CONSORT/MLDataset/manual_train_data_wMetaMap_FINAL_18labels.csv\")\n",
    "# train_df_linh[\"labels\"] = train_df_linh.iloc[:, 6:23].values.tolist()\n",
    "train_df_linh[\"CONSORT_Item\"] = train_df_linh[\"CONSORT_Item\"].apply(lambda x: literal_eval(x))\n",
    "train_df_linh[\"labels\"] = train_df_linh[\"labels\"].apply(lambda x: literal_eval(x))\n",
    "train_df_linh[\"text\"] = train_df_linh[[\"text\", \"section\"]].apply(lambda x: x[\"section\"] + \" \" + x[\"text\"], axis=1)\n",
    "# # train_df_linh = train_df_linh.rename(columns={embedding_column:'top_section'})\n",
    "# # train_df_linh[\"top_section\"] = train_df_linh[\"top_section\"].apply(lambda x: literal_eval(x))\n",
    "test_df_linh = pd.read_csv(\"/efs/CONSORT/MLDataset/manual_test_data_wMetaMap_FINAL_18labels.csv\")\n",
    "# test_df_linh[\"labels\"] = test_df_linh.iloc[:, 6:23].values.tolist()\n",
    "test_df_linh[\"CONSORT_Item\"] = test_df_linh[\"CONSORT_Item\"].apply(lambda x: literal_eval(x))\n",
    "test_df_linh[\"labels\"] = test_df_linh[\"labels\"].apply(lambda x: literal_eval(x))\n",
    "test_df_linh[\"text\"] = test_df_linh[[\"text\", \"section\"]].apply(lambda x: x[\"section\"] + \" \" + x[\"text\"], axis=1)\n",
    "# # test_df_linh = test_df_linh.rename(columns={embedding_column:'top_section'})\n",
    "# # test_df_linh[\"top_section\"] = test_df_linh[\"top_section\"].apply(lambda x: literal_eval(x))\n",
    "\n",
    "labels_train = []\n",
    "for l in list(itertools.chain(train_df_linh[\"CONSORT_Item\"])):\n",
    "    labels_train.extend([k for k in l])\n",
    "print(f\"train labels {set(labels_train)}\")\n",
    "labels_test = []\n",
    "for l in list(itertools.chain(test_df_linh[\"CONSORT_Item\"])):\n",
    "    labels_test.extend(l)\n",
    "print(f\"test labels {set(labels_test)}\")\n",
    "assert len(set(labels_test)) == len(set(labels_train))\n",
    "print(f\"Number of labels = {len(set(labels_train))}\")\n",
    "consort_items = sorted(set(labels_train))\n",
    "id2index = {}\n",
    "for i, item in enumerate(consort_items):\n",
    "    id2index[i] = item\n",
    "n_labels = len(id2index)\n",
    "print(\"Label to Index Dictionary\" , id2index)"
   ]
  },
  {
   "cell_type": "code",
   "execution_count": 110,
   "metadata": {},
   "outputs": [],
   "source": [
    "# train_data = pd.read_csv(os.path.join(data_path, \"train_data.csv\"), engine='python')\n",
    "# validation_data = pd.read_csv(os.path.join(data_path, \"valid_data.csv\"), engine='python')\n",
    "# test_data = pd.read_csv(os.path.join(data_path, \"test_data.csv\"), engine='python')\n",
    "# complete_data = pd.concat([train_data, validation_data, test_data], axis=0)\n",
    "# unique_labels = set(complete_data[\"CONSORT_Item\"].unique())"
   ]
  },
  {
   "cell_type": "code",
   "execution_count": 102,
   "metadata": {},
   "outputs": [],
   "source": [
    "# train_data_preprocess, num_labels = preprocess_data(train_data)\n",
    "# validation_data_preprocess, num_labels = preprocess_data(validation_data)\n",
    "# test_data_preprocess, num_labels = preprocess_data(test_data)"
   ]
  },
  {
   "cell_type": "code",
   "execution_count": 12,
   "metadata": {},
   "outputs": [],
   "source": [
    "# print(\"Unique IDs validation\", validation_data_preprocess[\"PMCID\"].unique().shape)\n",
    "# print(\"Unique IDS test\", test_data_preprocess[\"PMCID\"].unique().shape)\n",
    "# print(\"Size of validation data\", validation_data_preprocess.shape)\n",
    "# print(\"Size of test data\", test_data_preprocess.shape)"
   ]
  },
  {
   "cell_type": "code",
   "execution_count": 103,
   "metadata": {},
   "outputs": [],
   "source": [
    "# complete_ids = list(validation_data_preprocess[\"PMCID\"].unique()) + list(test_data_preprocess[\"PMCID\"].unique())\n",
    "# complete_ids = list(processed_data[\"PMCID\"].unique())\n",
    "# split = 0.8\n",
    "# val_idx = int(len(complete_ids) * split)\n",
    "# val_ids = complete_ids[0:val_idx]\n",
    "# tst_ids = complete_ids[val_idx:]\n",
    "# special_ids = [\"PMC3420230\", \"PMC3944682\"]\n",
    "# for i_d in special_ids:\n",
    "#     val_ids.remove(i_d)\n",
    "#     tst_ids.append(i_d)\n",
    "# temp = processed_data\n",
    "# val_df = temp[temp[\"PMCID\"].isin(val_ids)]\n",
    "# tst_df = temp[temp[\"PMCID\"].isin(tst_ids)]"
   ]
  },
  {
   "cell_type": "code",
   "execution_count": 231,
   "metadata": {},
   "outputs": [],
   "source": [
    "# temp = pd.concat([validation_data_preprocess, test_data_preprocess], ignore_index=True)\n",
    "# val_df.to_csv(\"/efs/sahilw2/data/split_train.csv\", index=False)\n",
    "# tst_df.to_csv(\"/efs/sahilw2/data/split_test.csv\", index=False)"
   ]
  },
  {
   "cell_type": "code",
   "execution_count": 6,
   "metadata": {},
   "outputs": [
    {
     "data": {
      "image/png": "[encoded data removed]",
      "text/plain": [
       "<Figure size 432x288 with 1 Axes>"
      ]
     },
     "metadata": {
      "needs_background": "light"
     },
     "output_type": "display_data"
    }
   ],
   "source": [
    "%matplotlib inline\n",
    "ax1 = plt.subplot(1,1,1)\n",
    "train_distribution_linh = train_df_linh.explode(\"CONSORT_Item\")[\"CONSORT_Item\"].value_counts()\n",
    "test_distribution_linh = test_df_linh.explode(\"CONSORT_Item\")[\"CONSORT_Item\"].value_counts()\n",
    "train_distribution_linh.plot(kind=\"bar\", ax = ax1, color=\"b\")\n",
    "test_distribution_linh.plot(kind=\"bar\", ax=ax1, color=\"g\")\n",
    "plt.legend([\"train\", \"test\"])\n",
    "plt.show();"
   ]
  },
  {
   "cell_type": "code",
   "execution_count": 122,
   "metadata": {},
   "outputs": [],
   "source": [
    "# print(\"Labels distribution for training and testing...\")\n",
    "# print(pd.DataFrame({\"train\" : all_labels_data[all_labels_data[\"PMCID\"].isin(val_ids)][\"CONSORT_Item\"].value_counts(), \"test\" : all_labels_data[all_labels_data[\"PMCID\"].isin(tst_ids)][\"CONSORT_Item\"].value_counts()}))\n",
    "# print(len(all_labels_data[\"top_section\"].unique()), all_labels_data[\"top_section\"].unique())"
   ]
  },
  {
   "cell_type": "code",
   "execution_count": 138,
   "metadata": {},
   "outputs": [],
   "source": [
    "# print(\"validation data size\", val_df.shape)\n",
    "# print(\"test data size\", tst_df.shape)\n",
    "# print(\"Train PMCID - \", val_df[\"PMCID\"].unique())\n",
    "# print(\"Test PMCID - \", tst_df[\"PMCID\"].unique())"
   ]
  },
  {
   "cell_type": "code",
   "execution_count": 139,
   "metadata": {},
   "outputs": [],
   "source": [
    "# for rare labels only\n",
    "# validation_org = validation_data[validation_data[\"PMCID\"].isin(val_ids)]\n",
    "# labels_proportion = validation_org[\"CONSORT_Item\"].value_counts() / sum(validation_org[\"CONSORT_Item\"].value_counts())\n",
    "# labels_proportion = pd.DataFrame(labels_proportion)\n",
    "# rare_labels = labels_proportion[labels_proportion[\"CONSORT_Item\"] < 0.01]\n",
    "# train_ids_rare = train_data[train_data[\"CONSORT_Item\"].isin(rare_labels.index.tolist())]\n",
    "# train_data_rare = train_data_preprocess[train_data_preprocess[\"PMCID\"].isin(train_ids_rare[\"PMCID\"].tolist())]"
   ]
  },
  {
   "cell_type": "code",
   "execution_count": 140,
   "metadata": {},
   "outputs": [],
   "source": [
    "# train_data_rare.to_csv(\"/efs/sahilw2/data/rare_data.csv\")"
   ]
  },
  {
   "cell_type": "code",
   "execution_count": 9,
   "metadata": {},
   "outputs": [],
   "source": [
    "# train_validation_data = pd.concat([train_data_rare, val_df], ignore_index=True)\n",
    "# # validation_data_preprocess.head()\n",
    "# train_validation_data[\"n_labels\"].value_counts(dropna=False)"
   ]
  },
  {
   "cell_type": "code",
   "execution_count": 7,
   "metadata": {},
   "outputs": [],
   "source": [
    "if not use_top_section:\n",
    "    train_df_linh[\"top_section\"] = 1\n",
    "    test_df_linh[\"top_section\"] = 1\n",
    "    n_top_sections = 0\n",
    "else:\n",
    "    assert \"top_section\" in train_df_linh.columns\n",
    "    n_top_sections = len(train_df_linh[\"top_section\"].iloc[0])\n",
    "config = {'reprocess_input_data': True,\n",
    "          'fp16':False,\n",
    "          \"evaluate_during_training\": False,\n",
    "          \"output_dir\": \"/efs/sahilw2/model/manual_linh_top_section_concat_2\", \n",
    "          'train_batch_size': 4,\n",
    "          'gradient_accumulation_steps':16,\n",
    "          'learning_rate': 3e-5, \n",
    "          'num_train_epochs': 30,\n",
    "          'n_top_sections': n_top_sections, \n",
    "          \"overwrite_output_dir\": True,\n",
    "          \"do_lower_case\": True,\n",
    "          'max_seq_length': 512}\n",
    "model = MultiLabelClassificationModel('bert', '/efs/sahilw2/model/manual_linh_top_section_concat_2/', num_labels=n_labels, args=config)\n",
    "# model.train_model(train_df_linh)"
   ]
  },
  {
   "cell_type": "code",
   "execution_count": 8,
   "metadata": {},
   "outputs": [
    {
     "data": {
      "application/vnd.jupyter.widget-view+json": {
       "model_id": "5235f9646fdb4559bf30b23e96ae8319",
       "version_major": 2,
       "version_minor": 0
      },
      "text/plain": [
       "HBox(children=(FloatProgress(value=0.0, max=614.0), HTML(value='')))"
      ]
     },
     "metadata": {},
     "output_type": "display_data"
    },
    {
     "name": "stdout",
     "output_type": "stream",
     "text": [
      "\n"
     ]
    },
    {
     "data": {
      "application/vnd.jupyter.widget-view+json": {
       "model_id": "d508836909d34d66941e4bc44189ed41",
       "version_major": 2,
       "version_minor": 0
      },
      "text/plain": [
       "HBox(children=(FloatProgress(value=0.0, max=77.0), HTML(value='')))"
      ]
     },
     "metadata": {},
     "output_type": "display_data"
    },
    {
     "name": "stdout",
     "output_type": "stream",
     "text": [
      "\n",
      "Accuracy 0.7035830618892508\n"
     ]
    }
   ],
   "source": [
    "# model = MultiLabelClassificationModel('bert', 'outputs/checkpoint-95-epoch-5/', num_labels=num_labels, args=config)\n",
    "test_predictions = model.predict(test_df_linh[\"text\"].tolist(), test_df_linh[\"top_section\"].tolist())\n",
    "for i in range(len(test_predictions[0])):\n",
    "    if sum(test_predictions[0][i]) == 0:\n",
    "        test_predictions[0][i][0] = 1\n",
    "print(\"Accuracy\", accuracy_score(test_predictions[0], test_df_linh[\"labels\"].tolist()))"
   ]
  },
  {
   "cell_type": "code",
   "execution_count": 12,
   "metadata": {},
   "outputs": [],
   "source": [
    "# predicted_labels = []\n",
    "# for l in test_predictions[0]:\n",
    "#     predicted_labels.append([id2index[i] for i in range(len(l)) if l[i]])\n",
    "# tst_df[\"predicted_labels\"] = predicted_labels\n",
    "\n",
    "# tst_df.to_csv(\"full_data/results.csv\", index=False)"
   ]
  },
  {
   "cell_type": "code",
   "execution_count": 11,
   "metadata": {},
   "outputs": [],
   "source": [
    "# test_predictions_items = []\n",
    "# for t in test_predictions[0]:\n",
    "#     l = []\n",
    "#     for i, j in enumerate(t):\n",
    "#         if j:\n",
    "#             l.append(id2index[i])\n",
    "#     test_predictions_items.append(l)\n",
    "    \n",
    "# validation_data_preprocess[\"predictions\"] = test_predictions_items"
   ]
  },
  {
   "cell_type": "code",
   "execution_count": 13,
   "metadata": {},
   "outputs": [
    {
     "name": "stdout",
     "output_type": "stream",
     "text": [
      "Accuracy 0.7035830618892508\n",
      "F1 Score 0.7565217391304347\n",
      "ROC  0.6877378706440039\n",
      "              precision    recall  f1-score   support\n",
      "\n",
      "          10       0.00      0.00      0.00        17\n",
      "         11a       0.50      0.40      0.44        10\n",
      "         11b       0.00      0.00      0.00         4\n",
      "         12a       0.75      0.76      0.75        66\n",
      "         12b       0.17      0.19      0.18        16\n",
      "          3a       0.89      0.47      0.62        17\n",
      "          3b       0.00      0.00      0.00         3\n",
      "          4a       0.89      0.82      0.86        40\n",
      "          4b       1.00      0.44      0.62         9\n",
      "           5       0.85      0.80      0.82        59\n",
      "          6a       0.85      0.86      0.86       179\n",
      "          6b       0.00      0.00      0.00         1\n",
      "          7a       1.00      0.76      0.86        45\n",
      "          7b       0.00      0.00      0.00         3\n",
      "          8a       1.00      0.33      0.50        12\n",
      "          8b       1.00      0.70      0.82        10\n",
      "           9       0.00      0.00      0.00         5\n",
      "\n",
      "   micro avg       0.82      0.70      0.76       496\n",
      "   macro avg       0.52      0.38      0.43       496\n",
      "weighted avg       0.78      0.70      0.73       496\n",
      " samples avg       0.56      0.54      0.55       496\n",
      "\n"
     ]
    },
    {
     "name": "stderr",
     "output_type": "stream",
     "text": [
      "/home/sahilw2/anaconda3/envs/simpletransformers/lib/python3.8/site-packages/sklearn/metrics/_classification.py:1272: UndefinedMetricWarning: Precision and F-score are ill-defined and being set to 0.0 in labels with no predicted samples. Use `zero_division` parameter to control this behavior.\n",
      "  _warn_prf(average, modifier, msg_start, len(result))\n",
      "/home/sahilw2/anaconda3/envs/simpletransformers/lib/python3.8/site-packages/sklearn/metrics/_classification.py:1272: UndefinedMetricWarning: Precision and F-score are ill-defined and being set to 0.0 in samples with no predicted labels. Use `zero_division` parameter to control this behavior.\n",
      "  _warn_prf(average, modifier, msg_start, len(result))\n",
      "/home/sahilw2/anaconda3/envs/simpletransformers/lib/python3.8/site-packages/sklearn/metrics/_classification.py:1272: UndefinedMetricWarning: Recall and F-score are ill-defined and being set to 0.0 in samples with no true labels. Use `zero_division` parameter to control this behavior.\n",
      "  _warn_prf(average, modifier, msg_start, len(result))\n"
     ]
    }
   ],
   "source": [
    "# halil's logic\n",
    "new_test_predictions=[]\n",
    "gold_labels=[]\n",
    "for i in range(len(test_predictions[0])):\n",
    "    x = test_predictions[0][i]\n",
    "    new_test_predictions.append(x[1:])\n",
    "\n",
    "for i in range(len(test_df_linh[\"labels\"])):\n",
    "    y = test_df_linh[\"labels\"][i]\n",
    "    gold_labels.append(y[1:])\n",
    "\n",
    "print(\"Accuracy\", accuracy_score(new_test_predictions, gold_labels))\n",
    "\n",
    "\n",
    "predicted_labels = []\n",
    "\n",
    "for l in new_test_predictions:\n",
    "    predicted_labels.append([id2index[i] for i in range(len(l)) if l[i]])\n",
    "print(\"F1 Score\" , f1_score(gold_labels, new_test_predictions, average=\"micro\"))\n",
    "print(\"ROC \", roc_auc_score(gold_labels, new_test_predictions))\n",
    "id2index1 = {}\n",
    "for i, item in enumerate(consort_items):\n",
    "    if item == '0':\n",
    "        continue\n",
    "    id2index1[i] = item\n",
    "\n",
    "print(classification_report(gold_labels, new_test_predictions, \\\n",
    "                            target_names=list(id2index1.values())))\n"
   ]
  },
  {
   "cell_type": "code",
   "execution_count": 22,
   "metadata": {},
   "outputs": [
    {
     "name": "stdout",
     "output_type": "stream",
     "text": [
      "F1 Score 0.7192429022082019\n",
      "ROC  0.691753825755817\n",
      "              precision    recall  f1-score   support\n",
      "\n",
      "           0       0.55      0.71      0.62       152\n",
      "          10       0.00      0.00      0.00        17\n",
      "         11a       0.50      0.40      0.44        10\n",
      "         11b       0.00      0.00      0.00         4\n",
      "         12a       0.75      0.76      0.75        66\n",
      "         12b       0.17      0.19      0.18        16\n",
      "          3a       0.89      0.47      0.62        17\n",
      "          3b       0.00      0.00      0.00         3\n",
      "          4a       0.89      0.82      0.86        40\n",
      "          4b       1.00      0.44      0.62         9\n",
      "           5       0.85      0.80      0.82        59\n",
      "          6a       0.85      0.86      0.86       179\n",
      "          6b       0.00      0.00      0.00         1\n",
      "          7a       1.00      0.76      0.86        45\n",
      "          7b       0.00      0.00      0.00         3\n",
      "          8a       1.00      0.33      0.50        12\n",
      "          8b       1.00      0.70      0.82        10\n",
      "           9       0.00      0.00      0.00         5\n",
      "\n",
      "   micro avg       0.74      0.70      0.72       648\n",
      "   macro avg       0.53      0.40      0.44       648\n",
      "weighted avg       0.73      0.70      0.70       648\n",
      " samples avg       0.73      0.72      0.72       648\n",
      "\n"
     ]
    },
    {
     "name": "stderr",
     "output_type": "stream",
     "text": [
      "/home/sahilw2/anaconda3/envs/simpletransformers/lib/python3.8/site-packages/sklearn/metrics/_classification.py:1272: UndefinedMetricWarning: Precision and F-score are ill-defined and being set to 0.0 in labels with no predicted samples. Use `zero_division` parameter to control this behavior.\n",
      "  _warn_prf(average, modifier, msg_start, len(result))\n"
     ]
    }
   ],
   "source": [
    "# results based on including 0 label\n",
    "print(\"F1 Score\" , f1_score(test_df_linh[\"labels\"].tolist(), test_predictions[0], average=\"micro\"))\n",
    "print(\"ROC \", roc_auc_score(test_df_linh[\"labels\"].tolist(), test_predictions[0]))\n",
    "print(classification_report(test_df_linh[\"labels\"].tolist(), test_predictions[0], \\\n",
    "                            target_names=list(id2index.values())))"
   ]
  }
 ],
 "metadata": {
  "kernelspec": {
   "display_name": "simpletransformers",
   "language": "python",
   "name": "simpletransformers"
  },
  "language_info": {
   "codemirror_mode": {
    "name": "ipython",
    "version": 3
   },
   "file_extension": ".py",
   "mimetype": "text/x-python",
   "name": "python",
   "nbconvert_exporter": "python",
   "pygments_lexer": "ipython3",
   "version": "3.8.1"
  }
 },
 "nbformat": 4,
 "nbformat_minor": 4
}
